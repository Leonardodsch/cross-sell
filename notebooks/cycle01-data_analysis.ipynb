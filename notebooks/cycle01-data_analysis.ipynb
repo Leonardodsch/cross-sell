{
 "cells": [
  {
   "cell_type": "markdown",
   "id": "e0b05549",
   "metadata": {
    "ExecuteTime": {
     "end_time": "2021-07-21T17:26:36.936200Z",
     "start_time": "2021-07-21T17:26:36.922503Z"
    }
   },
   "source": [
    "# Planejamento da solução"
   ]
  },
  {
   "cell_type": "markdown",
   "id": "2afc9008",
   "metadata": {},
   "source": [
    "1. Exploração dos dados visando encontrar inconsistências, tratamento de dados faltantes e possíveis insights que possam ser úteis ao time de negócios\n",
    "\n",
    "2. Levantar hipóteses a partir da análise feita e validar as hipóteses em busca da correlações que possam ser úteis para o modelo de machine learning.\n",
    "\n",
    "3. Preparação dos dados utlizando técnicas de rescaling e encodings.\n",
    "\n",
    "4. Teste de vários algoritmos classificadores.\n",
    "\n",
    "5. Avaliação dos modelos e tunning dos parametros.\n",
    "\n",
    "6. Contabilizar a performance do modelo de Machine Learning e transformar em performance de negócio.\n",
    "\n",
    "7. Fazer relatório respondedo as perguntas de negócio\n",
    "\n",
    "8. Colocar modelo em produção e acessar as predições via Google Sheets"
   ]
  },
  {
   "cell_type": "markdown",
   "id": "9fadc87a",
   "metadata": {},
   "source": [
    "# 0.0 Imports"
   ]
  },
  {
   "cell_type": "code",
   "execution_count": 293,
   "id": "61b45de8",
   "metadata": {
    "ExecuteTime": {
     "end_time": "2021-07-28T01:23:35.717390Z",
     "start_time": "2021-07-28T01:23:35.709393Z"
    }
   },
   "outputs": [],
   "source": [
    "import pandas as pd\n",
    "import numpy as np\n",
    "import matplotlib.pyplot as plt\n",
    "import seaborn as sns\n",
    "import warnings\n",
    "import scikitplot as sckp\n",
    "from IPython.core.display    import display, HTML"
   ]
  },
  {
   "cell_type": "markdown",
   "id": "d6329bcd",
   "metadata": {
    "heading_collapsed": true
   },
   "source": [
    "## 0.1 Helper Functions"
   ]
  },
  {
   "cell_type": "code",
   "execution_count": 294,
   "id": "627d0f16",
   "metadata": {
    "ExecuteTime": {
     "end_time": "2021-07-28T01:23:35.749377Z",
     "start_time": "2021-07-28T01:23:35.717390Z"
    },
    "hidden": true
   },
   "outputs": [
    {
     "name": "stdout",
     "output_type": "stream",
     "text": [
      "Populating the interactive namespace from numpy and matplotlib\n"
     ]
    },
    {
     "data": {
      "text/html": [
       "<style>.container { width:100% !important; }</style>"
      ],
      "text/plain": [
       "<IPython.core.display.HTML object>"
      ]
     },
     "metadata": {},
     "output_type": "display_data"
    }
   ],
   "source": [
    "def jupyter_settings():\n",
    "    %matplotlib inline\n",
    "    %pylab inline\n",
    "    \n",
    "    plt.style.use( 'bmh' )\n",
    "    plt.rcParams['figure.figsize'] = [18, 9]\n",
    "    plt.rcParams['font.size'] = 24\n",
    "\n",
    "    display( HTML( '<style>.container { width:100% !important; }</style>') )\n",
    "    pd.options.display.max_columns = None\n",
    "    pd.options.display.max_rows = None\n",
    "    pd.set_option( 'display.expand_frame_repr', False )\n",
    "    pd.set_option('display.float_format', lambda x: '%.3f' % x)\n",
    "    warnings.filterwarnings('ignore')\n",
    "    sns.set()\n",
    "    \n",
    "jupyter_settings()\n",
    "\n",
    "def ml_metrics(model_name, y_true, pred):\n",
    "    \n",
    "    accuracy = m.balanced_accuracy_score(y_true, pred)\n",
    "    precision = m.precision_score(y_true, pred)\n",
    "    recall = m.recall_score(y_true, pred)\n",
    "    f1 = m.f1_score(y_true, pred)\n",
    "    kappa = m.cohen_kappa_score(y_true, pred)\n",
    "    \n",
    "    return pd.DataFrame({'Balanced Accuracy': np.round(accuracy, 2), \n",
    "                         'Precision': np.round(precision, 2), \n",
    "                         'Recall': np.round(recall, 2),\n",
    "                         'F1': np.round(f1, 2),\n",
    "                         'Kappa': np.round(kappa, 2)}, index=[model_name])\n",
    "\n",
    "\n",
    "def metrics_at_k(data, model_name, k=20000):\n",
    "        \n",
    "    data = data.reset_index(drop=True)\n",
    "    # create ranking order\n",
    "    data['ranking'] = data.index + 1\n",
    "    # sort clients by propensity score\n",
    "    data = data.sort_values('score', ascending=False)\n",
    "    # precision\n",
    "    data['precision_at_k'] = data['response'].cumsum()/data['ranking']\n",
    "    # recall\n",
    "    data['recall_at_k'] = data['response'].cumsum()/data['response'].sum()\n",
    "                            \n",
    "    return pd.DataFrame({'Precision_at_k':data.loc[k, 'precision_at_k'],\n",
    "                        'Recall_at_k':data.loc[k, 'recall_at_k']}, index=[model_name])"
   ]
  },
  {
   "cell_type": "markdown",
   "id": "3f207178",
   "metadata": {},
   "source": [
    "## 0.2 Loading Data"
   ]
  },
  {
   "cell_type": "code",
   "execution_count": 295,
   "id": "1a7492a9",
   "metadata": {
    "ExecuteTime": {
     "end_time": "2021-07-28T01:23:36.172828Z",
     "start_time": "2021-07-28T01:23:35.749377Z"
    }
   },
   "outputs": [],
   "source": [
    "df_raw = pd.read_csv('data/insurance_cross_sell.csv')\n",
    "df_raw_test = pd.read_csv('data/test.csv')"
   ]
  },
  {
   "cell_type": "markdown",
   "id": "d5c9b8be",
   "metadata": {},
   "source": [
    "# 1.0 Data Description"
   ]
  },
  {
   "cell_type": "code",
   "execution_count": 296,
   "id": "5b22408b",
   "metadata": {
    "ExecuteTime": {
     "end_time": "2021-07-28T01:23:36.188841Z",
     "start_time": "2021-07-28T01:23:36.172828Z"
    }
   },
   "outputs": [],
   "source": [
    "df1 = df_raw.copy()"
   ]
  },
  {
   "cell_type": "markdown",
   "id": "4765cada",
   "metadata": {},
   "source": [
    " - **Id**: identificador único do cliente.\n",
    " \n",
    " - **Gender**: gênero do cliente.\n",
    " - **Age**: idade do cliente.\n",
    " - **Driving License**: 0, o cliente não tem permissão para dirigir e 1, o cliente tem para dirigir ( CNH – Carteira Nacional de Habilitação )\n",
    " - **Region Code**: código da região do cliente.\n",
    " - **Previously Insured**: 0, o cliente não tem seguro de automóvel e 1, o cliente já tem seguro de automóvel.\n",
    " - **Vehicle Age**: idade do veículo.\n",
    " - **Vehicle Damage**: 0, cliente nunca teve seu veículo danificado no passado e 1, cliente já teve seu veículo danificado no passado.\n",
    " - **Anual Premium**: quantidade que o cliente pagou à empresa pelo seguro de saúde anual.\n",
    " - **Policy sales channel**: código anônimo para o canal de contato com o cliente.\n",
    " - **Vintage**: número de dias que o cliente se associou à empresa através da compra do seguro de saúde.\n",
    " - **Response**: 0, o cliente não tem interesse e 1, o cliente tem interesse."
   ]
  },
  {
   "cell_type": "markdown",
   "id": "e213e4ed",
   "metadata": {},
   "source": [
    "## 1.1 Droping repeated columns"
   ]
  },
  {
   "cell_type": "code",
   "execution_count": 297,
   "id": "517b12ee",
   "metadata": {
    "ExecuteTime": {
     "end_time": "2021-07-28T01:23:36.220846Z",
     "start_time": "2021-07-28T01:23:36.188841Z"
    }
   },
   "outputs": [],
   "source": [
    "df1 = df1.drop(columns=['id.1', 'id.2'], axis=1)"
   ]
  },
  {
   "cell_type": "code",
   "execution_count": 298,
   "id": "da6e9552",
   "metadata": {
    "ExecuteTime": {
     "end_time": "2021-07-28T01:23:36.236741Z",
     "start_time": "2021-07-28T01:23:36.220846Z"
    }
   },
   "outputs": [
    {
     "data": {
      "text/html": [
       "<div>\n",
       "<style scoped>\n",
       "    .dataframe tbody tr th:only-of-type {\n",
       "        vertical-align: middle;\n",
       "    }\n",
       "\n",
       "    .dataframe tbody tr th {\n",
       "        vertical-align: top;\n",
       "    }\n",
       "\n",
       "    .dataframe thead th {\n",
       "        text-align: right;\n",
       "    }\n",
       "</style>\n",
       "<table border=\"1\" class=\"dataframe\">\n",
       "  <thead>\n",
       "    <tr style=\"text-align: right;\">\n",
       "      <th></th>\n",
       "      <th>id</th>\n",
       "      <th>gender</th>\n",
       "      <th>age</th>\n",
       "      <th>region_code</th>\n",
       "      <th>policy_sales_channel</th>\n",
       "      <th>driving_license</th>\n",
       "      <th>vehicle_age</th>\n",
       "      <th>vehicle_damage</th>\n",
       "      <th>previously_insured</th>\n",
       "      <th>annual_premium</th>\n",
       "      <th>vintage</th>\n",
       "      <th>response</th>\n",
       "    </tr>\n",
       "  </thead>\n",
       "  <tbody>\n",
       "    <tr>\n",
       "      <th>0</th>\n",
       "      <td>7</td>\n",
       "      <td>Male</td>\n",
       "      <td>23</td>\n",
       "      <td>11.000</td>\n",
       "      <td>152.000</td>\n",
       "      <td>1</td>\n",
       "      <td>&lt; 1 Year</td>\n",
       "      <td>Yes</td>\n",
       "      <td>0</td>\n",
       "      <td>23367.000</td>\n",
       "      <td>249</td>\n",
       "      <td>0</td>\n",
       "    </tr>\n",
       "    <tr>\n",
       "      <th>1</th>\n",
       "      <td>13</td>\n",
       "      <td>Female</td>\n",
       "      <td>41</td>\n",
       "      <td>15.000</td>\n",
       "      <td>14.000</td>\n",
       "      <td>1</td>\n",
       "      <td>1-2 Year</td>\n",
       "      <td>No</td>\n",
       "      <td>1</td>\n",
       "      <td>31409.000</td>\n",
       "      <td>221</td>\n",
       "      <td>0</td>\n",
       "    </tr>\n",
       "    <tr>\n",
       "      <th>2</th>\n",
       "      <td>18</td>\n",
       "      <td>Female</td>\n",
       "      <td>25</td>\n",
       "      <td>35.000</td>\n",
       "      <td>152.000</td>\n",
       "      <td>1</td>\n",
       "      <td>&lt; 1 Year</td>\n",
       "      <td>No</td>\n",
       "      <td>1</td>\n",
       "      <td>46622.000</td>\n",
       "      <td>299</td>\n",
       "      <td>0</td>\n",
       "    </tr>\n",
       "    <tr>\n",
       "      <th>3</th>\n",
       "      <td>31</td>\n",
       "      <td>Female</td>\n",
       "      <td>26</td>\n",
       "      <td>8.000</td>\n",
       "      <td>160.000</td>\n",
       "      <td>1</td>\n",
       "      <td>&lt; 1 Year</td>\n",
       "      <td>No</td>\n",
       "      <td>0</td>\n",
       "      <td>2630.000</td>\n",
       "      <td>136</td>\n",
       "      <td>0</td>\n",
       "    </tr>\n",
       "    <tr>\n",
       "      <th>4</th>\n",
       "      <td>39</td>\n",
       "      <td>Male</td>\n",
       "      <td>45</td>\n",
       "      <td>8.000</td>\n",
       "      <td>124.000</td>\n",
       "      <td>1</td>\n",
       "      <td>1-2 Year</td>\n",
       "      <td>Yes</td>\n",
       "      <td>0</td>\n",
       "      <td>42297.000</td>\n",
       "      <td>264</td>\n",
       "      <td>0</td>\n",
       "    </tr>\n",
       "  </tbody>\n",
       "</table>\n",
       "</div>"
      ],
      "text/plain": [
       "   id  gender  age  region_code  policy_sales_channel  driving_license vehicle_age vehicle_damage  previously_insured  annual_premium  vintage  response\n",
       "0   7    Male   23       11.000               152.000                1    < 1 Year            Yes                   0       23367.000      249         0\n",
       "1  13  Female   41       15.000                14.000                1    1-2 Year             No                   1       31409.000      221         0\n",
       "2  18  Female   25       35.000               152.000                1    < 1 Year             No                   1       46622.000      299         0\n",
       "3  31  Female   26        8.000               160.000                1    < 1 Year             No                   0        2630.000      136         0\n",
       "4  39    Male   45        8.000               124.000                1    1-2 Year            Yes                   0       42297.000      264         0"
      ]
     },
     "execution_count": 298,
     "metadata": {},
     "output_type": "execute_result"
    }
   ],
   "source": [
    "df1.head()"
   ]
  },
  {
   "cell_type": "markdown",
   "id": "748d6504",
   "metadata": {},
   "source": [
    "## 1.2 Data Dimensions"
   ]
  },
  {
   "cell_type": "code",
   "execution_count": 299,
   "id": "607e5c6c",
   "metadata": {
    "ExecuteTime": {
     "end_time": "2021-07-28T01:23:36.268726Z",
     "start_time": "2021-07-28T01:23:36.236741Z"
    }
   },
   "outputs": [
    {
     "data": {
      "text/plain": [
       "(381109, 12)"
      ]
     },
     "execution_count": 299,
     "metadata": {},
     "output_type": "execute_result"
    }
   ],
   "source": [
    "df1.shape"
   ]
  },
  {
   "cell_type": "markdown",
   "id": "e0ea4847",
   "metadata": {},
   "source": [
    "## 1.3 Data Types"
   ]
  },
  {
   "cell_type": "code",
   "execution_count": 300,
   "id": "63be52cf",
   "metadata": {
    "ExecuteTime": {
     "end_time": "2021-07-28T01:23:36.276725Z",
     "start_time": "2021-07-28T01:23:36.268726Z"
    }
   },
   "outputs": [
    {
     "data": {
      "text/plain": [
       "id                        int64\n",
       "gender                   object\n",
       "age                       int64\n",
       "region_code             float64\n",
       "policy_sales_channel    float64\n",
       "driving_license           int64\n",
       "vehicle_age              object\n",
       "vehicle_damage           object\n",
       "previously_insured        int64\n",
       "annual_premium          float64\n",
       "vintage                   int64\n",
       "response                  int64\n",
       "dtype: object"
      ]
     },
     "execution_count": 300,
     "metadata": {},
     "output_type": "execute_result"
    }
   ],
   "source": [
    "df1.dtypes"
   ]
  },
  {
   "cell_type": "markdown",
   "id": "e3c9b701",
   "metadata": {},
   "source": [
    "## 1.4 Check NA"
   ]
  },
  {
   "cell_type": "code",
   "execution_count": 301,
   "id": "0c29089d",
   "metadata": {
    "ExecuteTime": {
     "end_time": "2021-07-28T01:23:36.332702Z",
     "start_time": "2021-07-28T01:23:36.276725Z"
    }
   },
   "outputs": [
    {
     "data": {
      "text/plain": [
       "id                      0\n",
       "gender                  0\n",
       "age                     0\n",
       "region_code             0\n",
       "policy_sales_channel    0\n",
       "driving_license         0\n",
       "vehicle_age             0\n",
       "vehicle_damage          0\n",
       "previously_insured      0\n",
       "annual_premium          0\n",
       "vintage                 0\n",
       "response                0\n",
       "dtype: int64"
      ]
     },
     "execution_count": 301,
     "metadata": {},
     "output_type": "execute_result"
    }
   ],
   "source": [
    "df1.isna().sum()"
   ]
  },
  {
   "cell_type": "markdown",
   "id": "1129cf84",
   "metadata": {},
   "source": [
    "## 1.5 Fillout Na"
   ]
  },
  {
   "cell_type": "markdown",
   "id": "b7c9081f",
   "metadata": {},
   "source": [
    "There are not Nan values in the dataset"
   ]
  },
  {
   "cell_type": "markdown",
   "id": "f0602a6a",
   "metadata": {},
   "source": [
    "## 1.6 Change Types"
   ]
  },
  {
   "cell_type": "code",
   "execution_count": 302,
   "id": "5dd84542",
   "metadata": {
    "ExecuteTime": {
     "end_time": "2021-07-28T01:23:36.396676Z",
     "start_time": "2021-07-28T01:23:36.332702Z"
    }
   },
   "outputs": [],
   "source": [
    "#changing the values 0 and 1 to 'yes' and 'no'. It'll help on the data description and analysis.\n",
    "dic = {1:'yes', 0:'no'}\n",
    "\n",
    "df1['driving_license'] =  df1['driving_license'].map(dic)\n",
    "df1['previously_insured'] = df1['previously_insured'].map(dic)\n",
    "df1['response'] = df1['response'].map(dic)"
   ]
  },
  {
   "cell_type": "markdown",
   "id": "a683187a",
   "metadata": {},
   "source": [
    "## 1.7 Descriptive Statistical"
   ]
  },
  {
   "cell_type": "code",
   "execution_count": null,
   "id": "1dd5d246",
   "metadata": {},
   "outputs": [],
   "source": []
  },
  {
   "cell_type": "code",
   "execution_count": null,
   "id": "218ebb5b",
   "metadata": {},
   "outputs": [],
   "source": []
  },
  {
   "cell_type": "markdown",
   "id": "9dd4c152",
   "metadata": {
    "heading_collapsed": true
   },
   "source": [
    "# 2.0 Feature Engineering"
   ]
  },
  {
   "cell_type": "code",
   "execution_count": 303,
   "id": "14e9d712",
   "metadata": {
    "ExecuteTime": {
     "end_time": "2021-07-28T01:23:36.428661Z",
     "start_time": "2021-07-28T01:23:36.396676Z"
    },
    "hidden": true
   },
   "outputs": [],
   "source": [
    "df2 = df1.copy()"
   ]
  },
  {
   "cell_type": "markdown",
   "id": "8aad23ba",
   "metadata": {
    "heading_collapsed": true
   },
   "source": [
    "# 3.0 Variables Filtering"
   ]
  },
  {
   "cell_type": "code",
   "execution_count": 304,
   "id": "b45d5961",
   "metadata": {
    "ExecuteTime": {
     "end_time": "2021-07-28T01:23:36.454399Z",
     "start_time": "2021-07-28T01:23:36.430396Z"
    },
    "hidden": true
   },
   "outputs": [],
   "source": [
    "df3 = df2.copy()"
   ]
  },
  {
   "cell_type": "code",
   "execution_count": 305,
   "id": "4bdf6f15",
   "metadata": {
    "ExecuteTime": {
     "end_time": "2021-07-28T01:23:36.518437Z",
     "start_time": "2021-07-28T01:23:36.454399Z"
    },
    "hidden": true
   },
   "outputs": [],
   "source": [
    "df3 = df3.drop(columns='vehicle_age', axis=1)"
   ]
  },
  {
   "cell_type": "markdown",
   "id": "271e95e6",
   "metadata": {
    "heading_collapsed": true
   },
   "source": [
    "# 4.0 EDA"
   ]
  },
  {
   "cell_type": "code",
   "execution_count": 306,
   "id": "7ee4d11e",
   "metadata": {
    "ExecuteTime": {
     "end_time": "2021-07-28T01:23:36.534437Z",
     "start_time": "2021-07-28T01:23:36.518437Z"
    },
    "hidden": true
   },
   "outputs": [],
   "source": [
    "df4 = df3.copy()"
   ]
  },
  {
   "cell_type": "markdown",
   "id": "b0d95c75",
   "metadata": {},
   "source": [
    "# 5.0 Data preparation"
   ]
  },
  {
   "cell_type": "code",
   "execution_count": 307,
   "id": "20380c74",
   "metadata": {
    "ExecuteTime": {
     "end_time": "2021-07-28T01:23:36.566423Z",
     "start_time": "2021-07-28T01:23:36.534437Z"
    }
   },
   "outputs": [],
   "source": [
    "df5 = df4.copy()"
   ]
  },
  {
   "cell_type": "markdown",
   "id": "099f729c",
   "metadata": {},
   "source": [
    "## 5.1 Split dataframe into training and validation dataset"
   ]
  },
  {
   "cell_type": "code",
   "execution_count": 308,
   "id": "dfeeda2e",
   "metadata": {
    "ExecuteTime": {
     "end_time": "2021-07-28T01:23:36.582480Z",
     "start_time": "2021-07-28T01:23:36.566423Z"
    }
   },
   "outputs": [],
   "source": [
    "from sklearn.model_selection import train_test_split"
   ]
  },
  {
   "cell_type": "code",
   "execution_count": 309,
   "id": "593b46c4",
   "metadata": {
    "ExecuteTime": {
     "end_time": "2021-07-28T01:23:36.614522Z",
     "start_time": "2021-07-28T01:23:36.582480Z"
    }
   },
   "outputs": [],
   "source": [
    "X = df5.drop(columns='response', axis=1)\n",
    "y = df5['response'].copy()"
   ]
  },
  {
   "cell_type": "code",
   "execution_count": 310,
   "id": "4d8b10fa",
   "metadata": {
    "ExecuteTime": {
     "end_time": "2021-07-28T01:23:36.887696Z",
     "start_time": "2021-07-28T01:23:36.614522Z"
    }
   },
   "outputs": [],
   "source": [
    "X_train, X_valid, y_train, y_valid = train_test_split(X, y, test_size=0.2, random_state=42, stratify=y)"
   ]
  },
  {
   "cell_type": "code",
   "execution_count": 311,
   "id": "a3918866",
   "metadata": {
    "ExecuteTime": {
     "end_time": "2021-07-28T01:23:36.903679Z",
     "start_time": "2021-07-28T01:23:36.887696Z"
    }
   },
   "outputs": [],
   "source": [
    "X_performance = X_valid.copy()"
   ]
  },
  {
   "cell_type": "markdown",
   "id": "d48643c2",
   "metadata": {},
   "source": [
    "## 5.2 Rescaling"
   ]
  },
  {
   "cell_type": "code",
   "execution_count": 316,
   "id": "39053309",
   "metadata": {
    "ExecuteTime": {
     "end_time": "2021-07-28T01:26:18.717198Z",
     "start_time": "2021-07-28T01:26:18.709201Z"
    }
   },
   "outputs": [],
   "source": [
    "from sklearn.preprocessing import MinMaxScaler"
   ]
  },
  {
   "cell_type": "code",
   "execution_count": 317,
   "id": "19299b44",
   "metadata": {
    "ExecuteTime": {
     "end_time": "2021-07-28T01:26:18.776014Z",
     "start_time": "2021-07-28T01:26:18.717198Z"
    }
   },
   "outputs": [],
   "source": [
    "mm = MinMaxScaler()\n",
    "\n",
    "X_train['age'] = mm.fit_transform(X_train[['age']].values)\n",
    "X_valid['age'] = mm.fit_transform(X_valid[['age']].values)\n",
    "\n",
    "X_train['region_code'] = mm.fit_transform(X_train[['region_code']].values)\n",
    "X_valid['region_code'] = mm.fit_transform(X_valid[['region_code']].values)\n",
    "\n",
    "X_train['policy_sales_channel'] = mm.fit_transform(X_train[['policy_sales_channel']].values)\n",
    "X_valid['policy_sales_channel'] = mm.fit_transform(X_valid[['policy_sales_channel']].values)\n",
    "\n",
    "X_train['annual_premium'] = mm.fit_transform(X_train[['annual_premium']].values)\n",
    "X_valid['annual_premium'] = mm.fit_transform(X_valid[['annual_premium']].values)\n",
    "\n",
    "X_train['vintage'] = mm.fit_transform(X_train[['vintage']].values)\n",
    "X_valid['vintage'] = mm.fit_transform(X_valid[['vintage']].values)"
   ]
  },
  {
   "cell_type": "markdown",
   "id": "558cf692",
   "metadata": {},
   "source": [
    "## 5.3 Encoding"
   ]
  },
  {
   "cell_type": "code",
   "execution_count": 318,
   "id": "0b3c62df",
   "metadata": {
    "ExecuteTime": {
     "end_time": "2021-07-28T01:26:18.883626Z",
     "start_time": "2021-07-28T01:26:18.776014Z"
    }
   },
   "outputs": [],
   "source": [
    "X_train['gender'] = X_train['gender'].map({'Female':0,'Male':1})\n",
    "X_valid['gender'] = X_valid['gender'].map({'Female':0,'Male':1})\n",
    "\n",
    "X_train['driving_license'] = X_train['driving_license'].map({'no':0,'yes':1})\n",
    "X_valid['driving_license'] = X_valid['driving_license'].map({'no':0,'yes':1})\n",
    "\n",
    "X_train['vehicle_damage'] = X_train['vehicle_damage'].map({'No':0,'Yes':1})\n",
    "X_valid['vehicle_damage'] = X_valid['vehicle_damage'].map({'No':0,'Yes':1})\n",
    "\n",
    "X_train['previously_insured'] = X_train['previously_insured'].map({'no':0,'yes':1})\n",
    "X_valid['previously_insured'] = X_valid['previously_insured'].map({'no':0,'yes':1})\n",
    "\n",
    "y_train = y_train.map({'no':0,'yes':1})\n",
    "y_valid = y_valid.map({'no':0,'yes':1})"
   ]
  },
  {
   "cell_type": "markdown",
   "id": "f2f017e3",
   "metadata": {},
   "source": [
    "# 6.0 Feature Selection"
   ]
  },
  {
   "cell_type": "code",
   "execution_count": 319,
   "id": "1c80ee1b",
   "metadata": {
    "ExecuteTime": {
     "end_time": "2021-07-28T01:26:18.896927Z",
     "start_time": "2021-07-28T01:26:18.883626Z"
    }
   },
   "outputs": [],
   "source": [
    "df6 = df5.copy()"
   ]
  },
  {
   "cell_type": "markdown",
   "id": "6d5e50e1",
   "metadata": {},
   "source": [
    "# 7.0 Machine Learning Modeling"
   ]
  },
  {
   "cell_type": "code",
   "execution_count": 320,
   "id": "dffb15b0",
   "metadata": {
    "ExecuteTime": {
     "end_time": "2021-07-28T01:26:18.912920Z",
     "start_time": "2021-07-28T01:26:18.896927Z"
    }
   },
   "outputs": [],
   "source": [
    "df7 = df6.copy()"
   ]
  },
  {
   "cell_type": "markdown",
   "id": "c9596e05",
   "metadata": {},
   "source": [
    "## 7.1 Baseline Model"
   ]
  },
  {
   "cell_type": "code",
   "execution_count": 321,
   "id": "5cec7518",
   "metadata": {
    "ExecuteTime": {
     "end_time": "2021-07-28T01:26:18.928912Z",
     "start_time": "2021-07-28T01:26:18.912920Z"
    }
   },
   "outputs": [],
   "source": [
    "from sklearn.dummy import DummyClassifier"
   ]
  },
  {
   "cell_type": "code",
   "execution_count": 322,
   "id": "d6157890",
   "metadata": {
    "ExecuteTime": {
     "end_time": "2021-07-28T01:26:18.944906Z",
     "start_time": "2021-07-28T01:26:18.928912Z"
    }
   },
   "outputs": [],
   "source": [
    "from sklearn import metrics as m"
   ]
  },
  {
   "cell_type": "code",
   "execution_count": 323,
   "id": "56250e8e",
   "metadata": {
    "ExecuteTime": {
     "end_time": "2021-07-28T01:26:18.976881Z",
     "start_time": "2021-07-28T01:26:18.944906Z"
    }
   },
   "outputs": [],
   "source": [
    "dummy = DummyClassifier()\n",
    "dummy.fit(X_train, y_train)\n",
    "pred = dummy.predict(X_valid)\n",
    "pred_proba_dummy = dummy.predict_proba(X_valid)"
   ]
  },
  {
   "cell_type": "markdown",
   "id": "4fb51cc1",
   "metadata": {},
   "source": [
    "### Model Performance"
   ]
  },
  {
   "cell_type": "code",
   "execution_count": 324,
   "id": "5c8c48e8",
   "metadata": {
    "ExecuteTime": {
     "end_time": "2021-07-28T01:26:18.992888Z",
     "start_time": "2021-07-28T01:26:18.976881Z"
    }
   },
   "outputs": [],
   "source": [
    "df_performance_dummy = X_performance.copy()"
   ]
  },
  {
   "cell_type": "code",
   "execution_count": 325,
   "id": "408eb961",
   "metadata": {
    "ExecuteTime": {
     "end_time": "2021-07-28T01:26:19.048852Z",
     "start_time": "2021-07-28T01:26:18.992888Z"
    }
   },
   "outputs": [],
   "source": [
    "df_performance_dummy['response'] = y_valid.copy()\n",
    "\n",
    "# propensity score\n",
    "df_performance_dummy['score'] = pred_proba_dummy[:, 1].tolist()\n",
    "\n",
    "# compute metrics at K\n",
    "df_metrics_dummy = metrics_at_k(df_performance_dummy, 'dummy', k=20000)"
   ]
  },
  {
   "cell_type": "code",
   "execution_count": 326,
   "id": "139fb1e0",
   "metadata": {
    "ExecuteTime": {
     "end_time": "2021-07-28T01:26:19.168874Z",
     "start_time": "2021-07-28T01:26:19.048852Z"
    },
    "scrolled": true
   },
   "outputs": [
    {
     "data": {
      "text/html": [
       "<div>\n",
       "<style scoped>\n",
       "    .dataframe tbody tr th:only-of-type {\n",
       "        vertical-align: middle;\n",
       "    }\n",
       "\n",
       "    .dataframe tbody tr th {\n",
       "        vertical-align: top;\n",
       "    }\n",
       "\n",
       "    .dataframe thead th {\n",
       "        text-align: right;\n",
       "    }\n",
       "</style>\n",
       "<table border=\"1\" class=\"dataframe\">\n",
       "  <thead>\n",
       "    <tr style=\"text-align: right;\">\n",
       "      <th></th>\n",
       "      <th>Balanced Accuracy</th>\n",
       "      <th>Precision</th>\n",
       "      <th>Recall</th>\n",
       "      <th>F1</th>\n",
       "      <th>Kappa</th>\n",
       "    </tr>\n",
       "  </thead>\n",
       "  <tbody>\n",
       "    <tr>\n",
       "      <th>dummy</th>\n",
       "      <td>0.500</td>\n",
       "      <td>0.000</td>\n",
       "      <td>0.000</td>\n",
       "      <td>0.000</td>\n",
       "      <td>0.000</td>\n",
       "    </tr>\n",
       "  </tbody>\n",
       "</table>\n",
       "</div>"
      ],
      "text/plain": [
       "       Balanced Accuracy  Precision  Recall    F1  Kappa\n",
       "dummy              0.500      0.000   0.000 0.000  0.000"
      ]
     },
     "execution_count": 326,
     "metadata": {},
     "output_type": "execute_result"
    }
   ],
   "source": [
    "dummy_results = ml_metrics('dummy', y_valid, pred)\n",
    "dummy_results"
   ]
  },
  {
   "cell_type": "markdown",
   "id": "3508b733",
   "metadata": {
    "heading_collapsed": true
   },
   "source": [
    "### Cumulative Gain Curve"
   ]
  },
  {
   "cell_type": "code",
   "execution_count": 327,
   "id": "d20cfc88",
   "metadata": {
    "ExecuteTime": {
     "end_time": "2021-07-28T01:26:19.373734Z",
     "start_time": "2021-07-28T01:26:19.169100Z"
    },
    "hidden": true
   },
   "outputs": [
    {
     "data": {
      "text/plain": [
       "<AxesSubplot:title={'center':'Cumulative Gains Curve'}, xlabel='Percentage of sample', ylabel='Gain'>"
      ]
     },
     "execution_count": 327,
     "metadata": {},
     "output_type": "execute_result"
    },
    {
     "data": {
      "image/png": "[encoded data removed]",
      "text/plain": [
       "<Figure size 1296x648 with 1 Axes>"
      ]
     },
     "metadata": {},
     "output_type": "display_data"
    }
   ],
   "source": [
    "sckp.metrics.plot_cumulative_gain(y_valid, pred_proba_dummy)"
   ]
  },
  {
   "cell_type": "markdown",
   "id": "21aaeab5",
   "metadata": {},
   "source": [
    "## 7.2 Logistic Regression"
   ]
  },
  {
   "cell_type": "code",
   "execution_count": 328,
   "id": "daed5f6c",
   "metadata": {
    "ExecuteTime": {
     "end_time": "2021-07-28T01:26:19.390078Z",
     "start_time": "2021-07-28T01:26:19.373926Z"
    }
   },
   "outputs": [],
   "source": [
    "from sklearn.linear_model import LogisticRegression"
   ]
  },
  {
   "cell_type": "code",
   "execution_count": 329,
   "id": "5072102d",
   "metadata": {
    "ExecuteTime": {
     "end_time": "2021-07-28T01:26:19.817689Z",
     "start_time": "2021-07-28T01:26:19.390078Z"
    }
   },
   "outputs": [],
   "source": [
    "lr = LogisticRegression()\n",
    "lr.fit(X_train, y_train)\n",
    "pred = lr.predict(X_valid)\n",
    "pred_proba_lr = lr.predict_proba(X_valid)"
   ]
  },
  {
   "cell_type": "markdown",
   "id": "238437a5",
   "metadata": {},
   "source": [
    "### Model Performance"
   ]
  },
  {
   "cell_type": "code",
   "execution_count": 330,
   "id": "727e13f9",
   "metadata": {
    "ExecuteTime": {
     "end_time": "2021-07-28T01:26:19.831167Z",
     "start_time": "2021-07-28T01:26:19.819786Z"
    }
   },
   "outputs": [],
   "source": [
    "df_performance_lr = X_performance.copy()"
   ]
  },
  {
   "cell_type": "code",
   "execution_count": 331,
   "id": "599cc7c4",
   "metadata": {
    "ExecuteTime": {
     "end_time": "2021-07-28T01:26:19.889063Z",
     "start_time": "2021-07-28T01:26:19.832797Z"
    }
   },
   "outputs": [],
   "source": [
    "df_performance_lr['response'] = y_valid.copy()\n",
    "df_performance_lr['score'] = pred_proba_lr[:, 1].tolist()\n",
    "df_metrics_lr = metrics_at_k(df_performance_lr, 'Logistic REegression', k=20000)"
   ]
  },
  {
   "cell_type": "code",
   "execution_count": 332,
   "id": "b827166b",
   "metadata": {
    "ExecuteTime": {
     "end_time": "2021-07-28T01:26:20.017234Z",
     "start_time": "2021-07-28T01:26:19.889063Z"
    },
    "scrolled": true
   },
   "outputs": [
    {
     "data": {
      "text/html": [
       "<div>\n",
       "<style scoped>\n",
       "    .dataframe tbody tr th:only-of-type {\n",
       "        vertical-align: middle;\n",
       "    }\n",
       "\n",
       "    .dataframe tbody tr th {\n",
       "        vertical-align: top;\n",
       "    }\n",
       "\n",
       "    .dataframe thead th {\n",
       "        text-align: right;\n",
       "    }\n",
       "</style>\n",
       "<table border=\"1\" class=\"dataframe\">\n",
       "  <thead>\n",
       "    <tr style=\"text-align: right;\">\n",
       "      <th></th>\n",
       "      <th>Balanced Accuracy</th>\n",
       "      <th>Precision</th>\n",
       "      <th>Recall</th>\n",
       "      <th>F1</th>\n",
       "      <th>Kappa</th>\n",
       "    </tr>\n",
       "  </thead>\n",
       "  <tbody>\n",
       "    <tr>\n",
       "      <th>Logistic Regression</th>\n",
       "      <td>0.500</td>\n",
       "      <td>0.000</td>\n",
       "      <td>0.000</td>\n",
       "      <td>0.000</td>\n",
       "      <td>0.000</td>\n",
       "    </tr>\n",
       "  </tbody>\n",
       "</table>\n",
       "</div>"
      ],
      "text/plain": [
       "                     Balanced Accuracy  Precision  Recall    F1  Kappa\n",
       "Logistic Regression              0.500      0.000   0.000 0.000  0.000"
      ]
     },
     "execution_count": 332,
     "metadata": {},
     "output_type": "execute_result"
    }
   ],
   "source": [
    "logistic_regression_results = ml_metrics('Logistic Regression', y_valid, pred)\n",
    "logistic_regression_results"
   ]
  },
  {
   "cell_type": "markdown",
   "id": "b0f26fbb",
   "metadata": {
    "heading_collapsed": true
   },
   "source": [
    "### Cumulative Gain Curve"
   ]
  },
  {
   "cell_type": "code",
   "execution_count": 333,
   "id": "af010860",
   "metadata": {
    "ExecuteTime": {
     "end_time": "2021-07-28T01:26:20.178369Z",
     "start_time": "2021-07-28T01:26:20.017234Z"
    },
    "hidden": true
   },
   "outputs": [
    {
     "data": {
      "text/plain": [
       "<AxesSubplot:title={'center':'Cumulative Gains Curve'}, xlabel='Percentage of sample', ylabel='Gain'>"
      ]
     },
     "execution_count": 333,
     "metadata": {},
     "output_type": "execute_result"
    },
    {
     "data": {
      "image/png": "[encoded data removed]",
      "text/plain": [
       "<Figure size 1296x648 with 1 Axes>"
      ]
     },
     "metadata": {},
     "output_type": "display_data"
    }
   ],
   "source": [
    "sckp.metrics.plot_cumulative_gain(y_valid, pred_proba_lr)"
   ]
  },
  {
   "cell_type": "markdown",
   "id": "7adfe8a7",
   "metadata": {},
   "source": [
    "## 7.3 KNN"
   ]
  },
  {
   "cell_type": "code",
   "execution_count": 334,
   "id": "10214e72",
   "metadata": {
    "ExecuteTime": {
     "end_time": "2021-07-28T01:26:20.194381Z",
     "start_time": "2021-07-28T01:26:20.178369Z"
    }
   },
   "outputs": [],
   "source": [
    "from sklearn.neighbors import KNeighborsClassifier"
   ]
  },
  {
   "cell_type": "code",
   "execution_count": 335,
   "id": "6179b849",
   "metadata": {
    "ExecuteTime": {
     "end_time": "2021-07-28T01:26:23.468002Z",
     "start_time": "2021-07-28T01:26:20.194381Z"
    }
   },
   "outputs": [],
   "source": [
    "knn = KNeighborsClassifier()\n",
    "knn.fit(X_train, y_train)\n",
    "pred = knn.predict(X_valid)\n",
    "pred_proba_knn = knn.predict_proba(X_valid)"
   ]
  },
  {
   "cell_type": "markdown",
   "id": "920b405e",
   "metadata": {},
   "source": [
    "### Model Performance"
   ]
  },
  {
   "cell_type": "code",
   "execution_count": 336,
   "id": "8b242359",
   "metadata": {
    "ExecuteTime": {
     "end_time": "2021-07-28T01:26:23.483343Z",
     "start_time": "2021-07-28T01:26:23.468194Z"
    }
   },
   "outputs": [],
   "source": [
    "df_performance_knn = X_performance.copy()"
   ]
  },
  {
   "cell_type": "code",
   "execution_count": 337,
   "id": "3971d519",
   "metadata": {
    "ExecuteTime": {
     "end_time": "2021-07-28T01:26:23.531419Z",
     "start_time": "2021-07-28T01:26:23.483343Z"
    }
   },
   "outputs": [],
   "source": [
    "df_performance_knn['response'] = y_valid.copy()\n",
    "\n",
    "df_performance_knn['score'] = pred_proba_knn[:, 1].tolist()\n",
    "df_metrics_knn = metrics_at_k(df_performance_knn, 'KNN',  k=20000)"
   ]
  },
  {
   "cell_type": "code",
   "execution_count": 338,
   "id": "e47f106b",
   "metadata": {
    "ExecuteTime": {
     "end_time": "2021-07-28T01:26:23.646281Z",
     "start_time": "2021-07-28T01:26:23.531419Z"
    }
   },
   "outputs": [
    {
     "data": {
      "text/html": [
       "<div>\n",
       "<style scoped>\n",
       "    .dataframe tbody tr th:only-of-type {\n",
       "        vertical-align: middle;\n",
       "    }\n",
       "\n",
       "    .dataframe tbody tr th {\n",
       "        vertical-align: top;\n",
       "    }\n",
       "\n",
       "    .dataframe thead th {\n",
       "        text-align: right;\n",
       "    }\n",
       "</style>\n",
       "<table border=\"1\" class=\"dataframe\">\n",
       "  <thead>\n",
       "    <tr style=\"text-align: right;\">\n",
       "      <th></th>\n",
       "      <th>Balanced Accuracy</th>\n",
       "      <th>Precision</th>\n",
       "      <th>Recall</th>\n",
       "      <th>F1</th>\n",
       "      <th>Kappa</th>\n",
       "    </tr>\n",
       "  </thead>\n",
       "  <tbody>\n",
       "    <tr>\n",
       "      <th>KNN</th>\n",
       "      <td>0.500</td>\n",
       "      <td>0.150</td>\n",
       "      <td>0.020</td>\n",
       "      <td>0.030</td>\n",
       "      <td>0.010</td>\n",
       "    </tr>\n",
       "  </tbody>\n",
       "</table>\n",
       "</div>"
      ],
      "text/plain": [
       "     Balanced Accuracy  Precision  Recall    F1  Kappa\n",
       "KNN              0.500      0.150   0.020 0.030  0.010"
      ]
     },
     "execution_count": 338,
     "metadata": {},
     "output_type": "execute_result"
    }
   ],
   "source": [
    "knn_results = ml_metrics('KNN', y_valid, pred)\n",
    "knn_results "
   ]
  },
  {
   "cell_type": "markdown",
   "id": "6fb8f442",
   "metadata": {
    "heading_collapsed": true
   },
   "source": [
    "### Cumulative Gain Curve"
   ]
  },
  {
   "cell_type": "code",
   "execution_count": 339,
   "id": "8341c9d4",
   "metadata": {
    "ExecuteTime": {
     "end_time": "2021-07-28T01:26:23.798710Z",
     "start_time": "2021-07-28T01:26:23.646281Z"
    },
    "hidden": true
   },
   "outputs": [
    {
     "data": {
      "text/plain": [
       "<AxesSubplot:title={'center':'Cumulative Gains Curve'}, xlabel='Percentage of sample', ylabel='Gain'>"
      ]
     },
     "execution_count": 339,
     "metadata": {},
     "output_type": "execute_result"
    },
    {
     "data": {
      "image/png": "[encoded data removed]",
      "text/plain": [
       "<Figure size 1296x648 with 1 Axes>"
      ]
     },
     "metadata": {},
     "output_type": "display_data"
    }
   ],
   "source": [
    "sckp.metrics.plot_cumulative_gain(y_valid, pred_proba_knn)"
   ]
  },
  {
   "cell_type": "markdown",
   "id": "ab86d024",
   "metadata": {},
   "source": [
    "## 7.5 LightGBM"
   ]
  },
  {
   "cell_type": "code",
   "execution_count": 340,
   "id": "a60cbce0",
   "metadata": {
    "ExecuteTime": {
     "end_time": "2021-07-28T01:26:23.813093Z",
     "start_time": "2021-07-28T01:26:23.800596Z"
    }
   },
   "outputs": [],
   "source": [
    "import lightgbm "
   ]
  },
  {
   "cell_type": "code",
   "execution_count": 341,
   "id": "bfa11625",
   "metadata": {
    "ExecuteTime": {
     "end_time": "2021-07-28T01:26:24.817045Z",
     "start_time": "2021-07-28T01:26:23.813093Z"
    }
   },
   "outputs": [],
   "source": [
    "lgb = lightgbm.LGBMClassifier(objective='binary', class_weight='balanced')\n",
    "lgb.fit(X_train, y_train)\n",
    "pred = lgb.predict(X_valid)\n",
    "pred_proba_lgb = lgb.predict_proba(X_valid)"
   ]
  },
  {
   "cell_type": "markdown",
   "id": "dba9e0a2",
   "metadata": {},
   "source": [
    "### Model Performance"
   ]
  },
  {
   "cell_type": "code",
   "execution_count": 342,
   "id": "3780e9c6",
   "metadata": {
    "ExecuteTime": {
     "end_time": "2021-07-28T01:26:24.829266Z",
     "start_time": "2021-07-28T01:26:24.818535Z"
    }
   },
   "outputs": [],
   "source": [
    "df_performance_lgb = X_performance.copy()"
   ]
  },
  {
   "cell_type": "code",
   "execution_count": 343,
   "id": "c16886fb",
   "metadata": {
    "ExecuteTime": {
     "end_time": "2021-07-28T01:26:24.914158Z",
     "start_time": "2021-07-28T01:26:24.831016Z"
    }
   },
   "outputs": [],
   "source": [
    "df_performance_lgb['response'] = y_valid.copy()\n",
    "\n",
    "df_performance_lgb['score'] = pred_proba_lgb[:, 1].tolist()\n",
    "df_metrics_lgb = metrics_at_k(df_performance_lgb, 'LGBM', k=20000)"
   ]
  },
  {
   "cell_type": "code",
   "execution_count": 344,
   "id": "2b73fbf9",
   "metadata": {
    "ExecuteTime": {
     "end_time": "2021-07-28T01:26:25.043167Z",
     "start_time": "2021-07-28T01:26:24.914752Z"
    }
   },
   "outputs": [
    {
     "data": {
      "text/html": [
       "<div>\n",
       "<style scoped>\n",
       "    .dataframe tbody tr th:only-of-type {\n",
       "        vertical-align: middle;\n",
       "    }\n",
       "\n",
       "    .dataframe tbody tr th {\n",
       "        vertical-align: top;\n",
       "    }\n",
       "\n",
       "    .dataframe thead th {\n",
       "        text-align: right;\n",
       "    }\n",
       "</style>\n",
       "<table border=\"1\" class=\"dataframe\">\n",
       "  <thead>\n",
       "    <tr style=\"text-align: right;\">\n",
       "      <th></th>\n",
       "      <th>Balanced Accuracy</th>\n",
       "      <th>Precision</th>\n",
       "      <th>Recall</th>\n",
       "      <th>F1</th>\n",
       "      <th>Kappa</th>\n",
       "    </tr>\n",
       "  </thead>\n",
       "  <tbody>\n",
       "    <tr>\n",
       "      <th>LGBM</th>\n",
       "      <td>0.800</td>\n",
       "      <td>0.280</td>\n",
       "      <td>0.930</td>\n",
       "      <td>0.430</td>\n",
       "      <td>0.300</td>\n",
       "    </tr>\n",
       "  </tbody>\n",
       "</table>\n",
       "</div>"
      ],
      "text/plain": [
       "      Balanced Accuracy  Precision  Recall    F1  Kappa\n",
       "LGBM              0.800      0.280   0.930 0.430  0.300"
      ]
     },
     "execution_count": 344,
     "metadata": {},
     "output_type": "execute_result"
    }
   ],
   "source": [
    "lgbm_results = ml_metrics('LGBM', y_valid, pred)\n",
    "lgbm_results "
   ]
  },
  {
   "cell_type": "markdown",
   "id": "4d5b5b71",
   "metadata": {
    "heading_collapsed": true
   },
   "source": [
    "### Cumulative Gain Curve"
   ]
  },
  {
   "cell_type": "code",
   "execution_count": 345,
   "id": "9d3f12fe",
   "metadata": {
    "ExecuteTime": {
     "end_time": "2021-07-28T01:26:25.203436Z",
     "start_time": "2021-07-28T01:26:25.043167Z"
    },
    "hidden": true
   },
   "outputs": [
    {
     "data": {
      "text/plain": [
       "<AxesSubplot:title={'center':'Cumulative Gains Curve'}, xlabel='Percentage of sample', ylabel='Gain'>"
      ]
     },
     "execution_count": 345,
     "metadata": {},
     "output_type": "execute_result"
    },
    {
     "data": {
      "image/png": "[encoded data removed]",
      "text/plain": [
       "<Figure size 1296x648 with 1 Axes>"
      ]
     },
     "metadata": {},
     "output_type": "display_data"
    }
   ],
   "source": [
    "sckp.metrics.plot_cumulative_gain(y_valid, pred_proba_lgb)"
   ]
  },
  {
   "cell_type": "markdown",
   "id": "2686d4e8",
   "metadata": {},
   "source": [
    "## 7.6 Random Forest"
   ]
  },
  {
   "cell_type": "code",
   "execution_count": 346,
   "id": "dd6a1d13",
   "metadata": {
    "ExecuteTime": {
     "end_time": "2021-07-28T01:26:25.219406Z",
     "start_time": "2021-07-28T01:26:25.203436Z"
    }
   },
   "outputs": [],
   "source": [
    "from sklearn.ensemble import RandomForestClassifier"
   ]
  },
  {
   "cell_type": "code",
   "execution_count": 347,
   "id": "2c9d8994",
   "metadata": {
    "ExecuteTime": {
     "end_time": "2021-07-28T01:26:25.235396Z",
     "start_time": "2021-07-28T01:26:25.219406Z"
    }
   },
   "outputs": [],
   "source": [
    "rf = RandomForestClassifier(class_weight='balanced', n_estimators=1000, n_jobs=-1)"
   ]
  },
  {
   "cell_type": "code",
   "execution_count": 348,
   "id": "64f94d98",
   "metadata": {
    "ExecuteTime": {
     "end_time": "2021-07-28T01:28:32.881441Z",
     "start_time": "2021-07-28T01:26:25.235396Z"
    }
   },
   "outputs": [],
   "source": [
    "rf.fit(X_train, y_train)\n",
    "pred = rf.predict(X_valid)\n",
    "pred_proba_rf = rf.predict_proba(X_valid)"
   ]
  },
  {
   "cell_type": "markdown",
   "id": "04db06bd",
   "metadata": {},
   "source": [
    "### Model Performance"
   ]
  },
  {
   "cell_type": "code",
   "execution_count": 349,
   "id": "f346231e",
   "metadata": {
    "ExecuteTime": {
     "end_time": "2021-07-28T01:28:32.962192Z",
     "start_time": "2021-07-28T01:28:32.881441Z"
    }
   },
   "outputs": [],
   "source": [
    "df_performance_rf = X_performance.copy()\n",
    "\n",
    "df_performance_rf['response'] = y_valid.copy()\n",
    "\n",
    "df_performance_rf['score'] = pred_proba_rf[:, 1].tolist()\n",
    "\n",
    "df_metrics_rf = metrics_at_k(df_performance_rf, 'Random Forest', k=20000)"
   ]
  },
  {
   "cell_type": "code",
   "execution_count": 350,
   "id": "11e97ace",
   "metadata": {
    "ExecuteTime": {
     "end_time": "2021-07-28T01:28:33.159640Z",
     "start_time": "2021-07-28T01:28:32.962192Z"
    }
   },
   "outputs": [
    {
     "data": {
      "text/html": [
       "<div>\n",
       "<style scoped>\n",
       "    .dataframe tbody tr th:only-of-type {\n",
       "        vertical-align: middle;\n",
       "    }\n",
       "\n",
       "    .dataframe tbody tr th {\n",
       "        vertical-align: top;\n",
       "    }\n",
       "\n",
       "    .dataframe thead th {\n",
       "        text-align: right;\n",
       "    }\n",
       "</style>\n",
       "<table border=\"1\" class=\"dataframe\">\n",
       "  <thead>\n",
       "    <tr style=\"text-align: right;\">\n",
       "      <th></th>\n",
       "      <th>Balanced Accuracy</th>\n",
       "      <th>Precision</th>\n",
       "      <th>Recall</th>\n",
       "      <th>F1</th>\n",
       "      <th>Kappa</th>\n",
       "    </tr>\n",
       "  </thead>\n",
       "  <tbody>\n",
       "    <tr>\n",
       "      <th>Random Forest</th>\n",
       "      <td>0.520</td>\n",
       "      <td>0.370</td>\n",
       "      <td>0.040</td>\n",
       "      <td>0.080</td>\n",
       "      <td>0.050</td>\n",
       "    </tr>\n",
       "  </tbody>\n",
       "</table>\n",
       "</div>"
      ],
      "text/plain": [
       "               Balanced Accuracy  Precision  Recall    F1  Kappa\n",
       "Random Forest              0.520      0.370   0.040 0.080  0.050"
      ]
     },
     "execution_count": 350,
     "metadata": {},
     "output_type": "execute_result"
    }
   ],
   "source": [
    "rf_results = ml_metrics('Random Forest', y_valid, pred)\n",
    "rf_results"
   ]
  },
  {
   "cell_type": "markdown",
   "id": "eecd560d",
   "metadata": {
    "heading_collapsed": true
   },
   "source": [
    "### Cumulative Gain Curve"
   ]
  },
  {
   "cell_type": "code",
   "execution_count": 351,
   "id": "6c016d84",
   "metadata": {
    "ExecuteTime": {
     "end_time": "2021-07-28T01:28:33.368822Z",
     "start_time": "2021-07-28T01:28:33.159640Z"
    },
    "hidden": true
   },
   "outputs": [
    {
     "data": {
      "text/plain": [
       "<AxesSubplot:title={'center':'Cumulative Gains Curve'}, xlabel='Percentage of sample', ylabel='Gain'>"
      ]
     },
     "execution_count": 351,
     "metadata": {},
     "output_type": "execute_result"
    },
    {
     "data": {
      "image/png": "[encoded data removed]",
      "text/plain": [
       "<Figure size 1296x648 with 1 Axes>"
      ]
     },
     "metadata": {},
     "output_type": "display_data"
    }
   ],
   "source": [
    "sckp.metrics.plot_cumulative_gain(y_valid, pred_proba_rf)"
   ]
  },
  {
   "cell_type": "markdown",
   "id": "d3f73f43",
   "metadata": {},
   "source": [
    "## 7.7 XGBoost"
   ]
  },
  {
   "cell_type": "code",
   "execution_count": 352,
   "id": "0278f18c",
   "metadata": {
    "ExecuteTime": {
     "end_time": "2021-07-28T01:28:33.384818Z",
     "start_time": "2021-07-28T01:28:33.368822Z"
    }
   },
   "outputs": [],
   "source": [
    "from xgboost import XGBClassifier"
   ]
  },
  {
   "cell_type": "code",
   "execution_count": 353,
   "id": "2eab8d6a",
   "metadata": {
    "ExecuteTime": {
     "end_time": "2021-07-28T01:28:49.478372Z",
     "start_time": "2021-07-28T01:28:33.384818Z"
    }
   },
   "outputs": [],
   "source": [
    "xgb = XGBClassifier(objective='binary:logistic', verbosity=0)\n",
    "xgb.fit(X_train, y_train)\n",
    "pred = xgb.predict(X_valid)\n",
    "pred_proba_xgb = xgb.predict_proba(X_valid)"
   ]
  },
  {
   "cell_type": "markdown",
   "id": "9de5e739",
   "metadata": {},
   "source": [
    "### Model Performance"
   ]
  },
  {
   "cell_type": "code",
   "execution_count": 354,
   "id": "e4e98f2e",
   "metadata": {
    "ExecuteTime": {
     "end_time": "2021-07-28T01:28:49.572916Z",
     "start_time": "2021-07-28T01:28:49.478372Z"
    }
   },
   "outputs": [],
   "source": [
    "df_performance_xgb = X_performance.copy()\n",
    "\n",
    "df_performance_xgb['response'] = y_valid.copy()\n",
    "\n",
    "df_performance_xgb['score'] = pred_proba_xgb[:, 1].tolist()\n",
    "df_metrics_xgb = metrics_at_k(df_performance_xgb, 'XGBoost', k=20000)"
   ]
  },
  {
   "cell_type": "code",
   "execution_count": 355,
   "id": "a23e23cc",
   "metadata": {
    "ExecuteTime": {
     "end_time": "2021-07-28T01:28:49.748992Z",
     "start_time": "2021-07-28T01:28:49.572916Z"
    },
    "scrolled": true
   },
   "outputs": [
    {
     "data": {
      "text/html": [
       "<div>\n",
       "<style scoped>\n",
       "    .dataframe tbody tr th:only-of-type {\n",
       "        vertical-align: middle;\n",
       "    }\n",
       "\n",
       "    .dataframe tbody tr th {\n",
       "        vertical-align: top;\n",
       "    }\n",
       "\n",
       "    .dataframe thead th {\n",
       "        text-align: right;\n",
       "    }\n",
       "</style>\n",
       "<table border=\"1\" class=\"dataframe\">\n",
       "  <thead>\n",
       "    <tr style=\"text-align: right;\">\n",
       "      <th></th>\n",
       "      <th>Balanced Accuracy</th>\n",
       "      <th>Precision</th>\n",
       "      <th>Recall</th>\n",
       "      <th>F1</th>\n",
       "      <th>Kappa</th>\n",
       "    </tr>\n",
       "  </thead>\n",
       "  <tbody>\n",
       "    <tr>\n",
       "      <th>XGBoost</th>\n",
       "      <td>0.510</td>\n",
       "      <td>0.420</td>\n",
       "      <td>0.020</td>\n",
       "      <td>0.030</td>\n",
       "      <td>0.020</td>\n",
       "    </tr>\n",
       "  </tbody>\n",
       "</table>\n",
       "</div>"
      ],
      "text/plain": [
       "         Balanced Accuracy  Precision  Recall    F1  Kappa\n",
       "XGBoost              0.510      0.420   0.020 0.030  0.020"
      ]
     },
     "execution_count": 355,
     "metadata": {},
     "output_type": "execute_result"
    }
   ],
   "source": [
    "xgb_results = ml_metrics('XGBoost', y_valid, pred)\n",
    "xgb_results"
   ]
  },
  {
   "cell_type": "markdown",
   "id": "29f158d8",
   "metadata": {
    "heading_collapsed": true
   },
   "source": [
    "### Cumulative Gain Curve"
   ]
  },
  {
   "cell_type": "code",
   "execution_count": 356,
   "id": "3d7b7f31",
   "metadata": {
    "ExecuteTime": {
     "end_time": "2021-07-28T01:28:49.957165Z",
     "start_time": "2021-07-28T01:28:49.748992Z"
    },
    "hidden": true
   },
   "outputs": [
    {
     "data": {
      "text/plain": [
       "<AxesSubplot:title={'center':'Cumulative Gains Curve'}, xlabel='Percentage of sample', ylabel='Gain'>"
      ]
     },
     "execution_count": 356,
     "metadata": {},
     "output_type": "execute_result"
    },
    {
     "data": {
      "image/png": "[encoded data removed]",
      "text/plain": [
       "<Figure size 1296x648 with 1 Axes>"
      ]
     },
     "metadata": {},
     "output_type": "display_data"
    }
   ],
   "source": [
    "sckp.metrics.plot_cumulative_gain(y_valid, pred_proba_xgb)"
   ]
  },
  {
   "cell_type": "markdown",
   "id": "8914565a",
   "metadata": {},
   "source": [
    "## 7.8 Results"
   ]
  },
  {
   "cell_type": "markdown",
   "id": "3c15a7fb",
   "metadata": {},
   "source": [
    "### Results at K"
   ]
  },
  {
   "cell_type": "code",
   "execution_count": 357,
   "id": "89f75211",
   "metadata": {
    "ExecuteTime": {
     "end_time": "2021-07-28T01:28:49.989454Z",
     "start_time": "2021-07-28T01:28:49.965242Z"
    }
   },
   "outputs": [
    {
     "data": {
      "text/html": [
       "<style type=\"text/css\">\n",
       "#T_d1199_row0_col0, #T_d1199_row0_col1 {\n",
       "  background-color: lightgreen;\n",
       "}\n",
       "</style>\n",
       "<table id=\"T_d1199_\">\n",
       "  <thead>\n",
       "    <tr>\n",
       "      <th class=\"blank level0\" >&nbsp;</th>\n",
       "      <th class=\"col_heading level0 col0\" >Precision_at_k</th>\n",
       "      <th class=\"col_heading level0 col1\" >Recall_at_k</th>\n",
       "    </tr>\n",
       "  </thead>\n",
       "  <tbody>\n",
       "    <tr>\n",
       "      <th id=\"T_d1199_level0_row0\" class=\"row_heading level0 row0\" >dummy</th>\n",
       "      <td id=\"T_d1199_row0_col0\" class=\"data row0 col0\" >0.424829</td>\n",
       "      <td id=\"T_d1199_row0_col1\" class=\"data row0 col1\" >0.909548</td>\n",
       "    </tr>\n",
       "    <tr>\n",
       "      <th id=\"T_d1199_level0_row1\" class=\"row_heading level0 row1\" >Logistic REegression</th>\n",
       "      <td id=\"T_d1199_row1_col0\" class=\"data row1 col0\" >0.078396</td>\n",
       "      <td id=\"T_d1199_row1_col1\" class=\"data row1 col1\" >0.167844</td>\n",
       "    </tr>\n",
       "    <tr>\n",
       "      <th id=\"T_d1199_level0_row2\" class=\"row_heading level0 row2\" >KNN</th>\n",
       "      <td id=\"T_d1199_row2_col0\" class=\"data row2 col0\" >0.208540</td>\n",
       "      <td id=\"T_d1199_row2_col1\" class=\"data row2 col1\" >0.446478</td>\n",
       "    </tr>\n",
       "    <tr>\n",
       "      <th id=\"T_d1199_level0_row3\" class=\"row_heading level0 row3\" >LGBM</th>\n",
       "      <td id=\"T_d1199_row3_col0\" class=\"data row3 col0\" >0.311834</td>\n",
       "      <td id=\"T_d1199_row3_col1\" class=\"data row3 col1\" >0.667630</td>\n",
       "    </tr>\n",
       "    <tr>\n",
       "      <th id=\"T_d1199_level0_row4\" class=\"row_heading level0 row4\" >Random Forest</th>\n",
       "      <td id=\"T_d1199_row4_col0\" class=\"data row4 col0\" >0.356082</td>\n",
       "      <td id=\"T_d1199_row4_col1\" class=\"data row4 col1\" >0.762364</td>\n",
       "    </tr>\n",
       "    <tr>\n",
       "      <th id=\"T_d1199_level0_row5\" class=\"row_heading level0 row5\" >XGBoost</th>\n",
       "      <td id=\"T_d1199_row5_col0\" class=\"data row5 col0\" >0.345483</td>\n",
       "      <td id=\"T_d1199_row5_col1\" class=\"data row5 col1\" >0.739670</td>\n",
       "    </tr>\n",
       "  </tbody>\n",
       "</table>\n"
      ],
      "text/plain": [
       "<pandas.io.formats.style.Styler at 0x2ac016780a0>"
      ]
     },
     "execution_count": 357,
     "metadata": {},
     "output_type": "execute_result"
    }
   ],
   "source": [
    "df_results_at_k = pd.concat([df_metrics_dummy, df_metrics_lr, df_metrics_knn, df_metrics_lgb, df_metrics_rf, df_metrics_xgb])\n",
    "df_results_at_k.style.highlight_max(color='lightgreen', axis=0)"
   ]
  },
  {
   "cell_type": "markdown",
   "id": "50927a8e",
   "metadata": {},
   "source": [
    "### Results Regular Metrics"
   ]
  },
  {
   "cell_type": "code",
   "execution_count": 358,
   "id": "5b261998",
   "metadata": {
    "ExecuteTime": {
     "end_time": "2021-07-28T01:28:50.016474Z",
     "start_time": "2021-07-28T01:28:49.989454Z"
    }
   },
   "outputs": [
    {
     "data": {
      "text/html": [
       "<style type=\"text/css\">\n",
       "#T_0d363_row3_col0, #T_0d363_row3_col2, #T_0d363_row3_col3, #T_0d363_row3_col4, #T_0d363_row5_col1 {\n",
       "  background-color: lightgreen;\n",
       "}\n",
       "</style>\n",
       "<table id=\"T_0d363_\">\n",
       "  <thead>\n",
       "    <tr>\n",
       "      <th class=\"blank level0\" >&nbsp;</th>\n",
       "      <th class=\"col_heading level0 col0\" >Balanced Accuracy</th>\n",
       "      <th class=\"col_heading level0 col1\" >Precision</th>\n",
       "      <th class=\"col_heading level0 col2\" >Recall</th>\n",
       "      <th class=\"col_heading level0 col3\" >F1</th>\n",
       "      <th class=\"col_heading level0 col4\" >Kappa</th>\n",
       "    </tr>\n",
       "  </thead>\n",
       "  <tbody>\n",
       "    <tr>\n",
       "      <th id=\"T_0d363_level0_row0\" class=\"row_heading level0 row0\" >dummy</th>\n",
       "      <td id=\"T_0d363_row0_col0\" class=\"data row0 col0\" >0.500000</td>\n",
       "      <td id=\"T_0d363_row0_col1\" class=\"data row0 col1\" >0.000000</td>\n",
       "      <td id=\"T_0d363_row0_col2\" class=\"data row0 col2\" >0.000000</td>\n",
       "      <td id=\"T_0d363_row0_col3\" class=\"data row0 col3\" >0.000000</td>\n",
       "      <td id=\"T_0d363_row0_col4\" class=\"data row0 col4\" >0.000000</td>\n",
       "    </tr>\n",
       "    <tr>\n",
       "      <th id=\"T_0d363_level0_row1\" class=\"row_heading level0 row1\" >Logistic Regression</th>\n",
       "      <td id=\"T_0d363_row1_col0\" class=\"data row1 col0\" >0.500000</td>\n",
       "      <td id=\"T_0d363_row1_col1\" class=\"data row1 col1\" >0.000000</td>\n",
       "      <td id=\"T_0d363_row1_col2\" class=\"data row1 col2\" >0.000000</td>\n",
       "      <td id=\"T_0d363_row1_col3\" class=\"data row1 col3\" >0.000000</td>\n",
       "      <td id=\"T_0d363_row1_col4\" class=\"data row1 col4\" >0.000000</td>\n",
       "    </tr>\n",
       "    <tr>\n",
       "      <th id=\"T_0d363_level0_row2\" class=\"row_heading level0 row2\" >KNN</th>\n",
       "      <td id=\"T_0d363_row2_col0\" class=\"data row2 col0\" >0.500000</td>\n",
       "      <td id=\"T_0d363_row2_col1\" class=\"data row2 col1\" >0.150000</td>\n",
       "      <td id=\"T_0d363_row2_col2\" class=\"data row2 col2\" >0.020000</td>\n",
       "      <td id=\"T_0d363_row2_col3\" class=\"data row2 col3\" >0.030000</td>\n",
       "      <td id=\"T_0d363_row2_col4\" class=\"data row2 col4\" >0.010000</td>\n",
       "    </tr>\n",
       "    <tr>\n",
       "      <th id=\"T_0d363_level0_row3\" class=\"row_heading level0 row3\" >LGBM</th>\n",
       "      <td id=\"T_0d363_row3_col0\" class=\"data row3 col0\" >0.800000</td>\n",
       "      <td id=\"T_0d363_row3_col1\" class=\"data row3 col1\" >0.280000</td>\n",
       "      <td id=\"T_0d363_row3_col2\" class=\"data row3 col2\" >0.930000</td>\n",
       "      <td id=\"T_0d363_row3_col3\" class=\"data row3 col3\" >0.430000</td>\n",
       "      <td id=\"T_0d363_row3_col4\" class=\"data row3 col4\" >0.300000</td>\n",
       "    </tr>\n",
       "    <tr>\n",
       "      <th id=\"T_0d363_level0_row4\" class=\"row_heading level0 row4\" >Random Forest</th>\n",
       "      <td id=\"T_0d363_row4_col0\" class=\"data row4 col0\" >0.520000</td>\n",
       "      <td id=\"T_0d363_row4_col1\" class=\"data row4 col1\" >0.370000</td>\n",
       "      <td id=\"T_0d363_row4_col2\" class=\"data row4 col2\" >0.040000</td>\n",
       "      <td id=\"T_0d363_row4_col3\" class=\"data row4 col3\" >0.080000</td>\n",
       "      <td id=\"T_0d363_row4_col4\" class=\"data row4 col4\" >0.050000</td>\n",
       "    </tr>\n",
       "    <tr>\n",
       "      <th id=\"T_0d363_level0_row5\" class=\"row_heading level0 row5\" >XGBoost</th>\n",
       "      <td id=\"T_0d363_row5_col0\" class=\"data row5 col0\" >0.510000</td>\n",
       "      <td id=\"T_0d363_row5_col1\" class=\"data row5 col1\" >0.420000</td>\n",
       "      <td id=\"T_0d363_row5_col2\" class=\"data row5 col2\" >0.020000</td>\n",
       "      <td id=\"T_0d363_row5_col3\" class=\"data row5 col3\" >0.030000</td>\n",
       "      <td id=\"T_0d363_row5_col4\" class=\"data row5 col4\" >0.020000</td>\n",
       "    </tr>\n",
       "  </tbody>\n",
       "</table>\n"
      ],
      "text/plain": [
       "<pandas.io.formats.style.Styler at 0x2ac0163f970>"
      ]
     },
     "execution_count": 358,
     "metadata": {},
     "output_type": "execute_result"
    }
   ],
   "source": [
    "df_results = pd.concat([dummy_results, logistic_regression_results, knn_results,lgbm_results, rf_results, xgb_results])\n",
    "df_results.style.highlight_max(color='lightgreen', axis=0)"
   ]
  },
  {
   "cell_type": "markdown",
   "id": "0e7df553",
   "metadata": {
    "heading_collapsed": true
   },
   "source": [
    "# 8.0 Hyperparameter Fine Tuning"
   ]
  },
  {
   "cell_type": "code",
   "execution_count": null,
   "id": "9644e953",
   "metadata": {
    "hidden": true
   },
   "outputs": [],
   "source": []
  },
  {
   "cell_type": "markdown",
   "id": "9253c7ef",
   "metadata": {
    "heading_collapsed": true
   },
   "source": [
    "# 9.0 Conclusions"
   ]
  },
  {
   "cell_type": "code",
   "execution_count": null,
   "id": "477ee004",
   "metadata": {
    "hidden": true
   },
   "outputs": [],
   "source": []
  },
  {
   "cell_type": "markdown",
   "id": "12e3bab4",
   "metadata": {
    "ExecuteTime": {
     "end_time": "2021-07-21T18:17:12.677281Z",
     "start_time": "2021-07-21T18:17:12.669278Z"
    }
   },
   "source": [
    "# 10.0 Deploy"
   ]
  },
  {
   "cell_type": "code",
   "execution_count": null,
   "id": "d8d35cd5",
   "metadata": {},
   "outputs": [],
   "source": []
  }
 ],
 "metadata": {
  "kernelspec": {
   "display_name": "Python 3",
   "language": "python",
   "name": "python3"
  },
  "language_info": {
   "codemirror_mode": {
    "name": "ipython",
    "version": 3
   },
   "file_extension": ".py",
   "mimetype": "text/x-python",
   "name": "python",
   "nbconvert_exporter": "python",
   "pygments_lexer": "ipython3",
   "version": "3.8.10"
  },
  "toc": {
   "base_numbering": 1,
   "nav_menu": {},
   "number_sections": false,
   "sideBar": true,
   "skip_h1_title": false,
   "title_cell": "Table of Contents",
   "title_sidebar": "Contents",
   "toc_cell": false,
   "toc_position": {
    "height": "calc(100% - 180px)",
    "left": "10px",
    "top": "150px",
    "width": "303.837px"
   },
   "toc_section_display": true,
   "toc_window_display": false
  }
 },
 "nbformat": 4,
 "nbformat_minor": 5
}
