{
 "cells": [
  {
   "cell_type": "markdown",
   "id": "1908c55b",
   "metadata": {},
   "source": [
    "# 0.0 Data Collect"
   ]
  },
  {
   "cell_type": "code",
   "execution_count": 1,
   "id": "ea7baa85",
   "metadata": {
    "ExecuteTime": {
     "end_time": "2021-07-21T15:36:23.993831Z",
     "start_time": "2021-07-21T15:36:23.267059Z"
    }
   },
   "outputs": [],
   "source": [
    "import pandas as pd\n",
    "import psycopg2"
   ]
  },
  {
   "cell_type": "code",
   "execution_count": null,
   "id": "2f41ef16",
   "metadata": {},
   "outputs": [],
   "source": [
    "host = \n",
    "database = \n",
    "port = \n",
    "user = \n",
    "pasword ="
   ]
  },
  {
   "cell_type": "code",
   "execution_count": 2,
   "id": "9025e805",
   "metadata": {
    "ExecuteTime": {
     "end_time": "2021-07-21T15:42:04.420961Z",
     "start_time": "2021-07-21T15:42:04.405019Z"
    }
   },
   "outputs": [],
   "source": [
    "# conect with database\n",
    "def conect_db():\n",
    "  con = psycopg2.connect(host=host, \n",
    "                         database=database,\n",
    "                         port = port,\n",
    "                         user=user, \n",
    "                         password=password)\n",
    "  return con\n",
    "\n",
    "# Função para consultas no banco\n",
    "def consultar_db(sql):\n",
    "  con = conect_db()\n",
    "  cursor = con.cursor()\n",
    "  cursor.execute(sql)\n",
    "  records = cursor.fetchall()\n",
    "  cursor.close()\n",
    "  con.close()\n",
    "  return records"
   ]
  },
  {
   "cell_type": "markdown",
   "id": "7a057bcc",
   "metadata": {},
   "source": [
    "# 1.0 Schema Query"
   ]
  },
  {
   "cell_type": "code",
   "execution_count": 20,
   "id": "0239c185",
   "metadata": {
    "ExecuteTime": {
     "end_time": "2021-07-21T15:48:38.845505Z",
     "start_time": "2021-07-21T15:48:38.832669Z"
    }
   },
   "outputs": [],
   "source": [
    "query_schema = \"\"\"\n",
    "SELECT nspname \n",
    "FROM  pg_catalog.pg_namespace\n",
    "\"\"\""
   ]
  },
  {
   "cell_type": "code",
   "execution_count": 21,
   "id": "6d06d60b",
   "metadata": {
    "ExecuteTime": {
     "end_time": "2021-07-21T15:48:40.831346Z",
     "start_time": "2021-07-21T15:48:39.457227Z"
    }
   },
   "outputs": [
    {
     "data": {
      "text/plain": [
       "[('pg_toast',),\n",
       " ('pg_temp_1',),\n",
       " ('pg_toast_temp_1',),\n",
       " ('pg_catalog',),\n",
       " ('information_schema',),\n",
       " ('public',),\n",
       " ('pa004',)]"
      ]
     },
     "execution_count": 21,
     "metadata": {},
     "output_type": "execute_result"
    }
   ],
   "source": [
    "consultar_db(query_schema)"
   ]
  },
  {
   "cell_type": "markdown",
   "id": "2696b15c",
   "metadata": {},
   "source": [
    "# 2.0 Table Query"
   ]
  },
  {
   "cell_type": "code",
   "execution_count": 23,
   "id": "d806ed32",
   "metadata": {
    "ExecuteTime": {
     "end_time": "2021-07-21T15:53:51.697922Z",
     "start_time": "2021-07-21T15:53:51.684439Z"
    }
   },
   "outputs": [],
   "source": [
    "query_tables = \"\"\"\n",
    "    SELECT tablename\n",
    "    FROM  pg_tables\n",
    "    WHERE schemaname = 'pa004'\n",
    "\"\"\""
   ]
  },
  {
   "cell_type": "code",
   "execution_count": 24,
   "id": "fec80eb9",
   "metadata": {
    "ExecuteTime": {
     "end_time": "2021-07-21T15:53:58.136567Z",
     "start_time": "2021-07-21T15:53:56.727300Z"
    }
   },
   "outputs": [
    {
     "data": {
      "text/plain": [
       "[('users',), ('vehicle',), ('insurance',)]"
      ]
     },
     "execution_count": 24,
     "metadata": {},
     "output_type": "execute_result"
    }
   ],
   "source": [
    "consultar_db(query_tables)"
   ]
  },
  {
   "cell_type": "markdown",
   "id": "19d6da5b",
   "metadata": {},
   "source": [
    "# 3.0 Collect Data using Pandas"
   ]
  },
  {
   "cell_type": "code",
   "execution_count": 26,
   "id": "b6006aaa",
   "metadata": {
    "ExecuteTime": {
     "end_time": "2021-07-21T16:00:56.070461Z",
     "start_time": "2021-07-21T16:00:56.061299Z"
    }
   },
   "outputs": [],
   "source": [
    "query_tables_all = \"\"\"\n",
    "    SELECT *\n",
    "    FROM  pa004.users u LEFT JOIN pa004.vehicle v ON (u.id = v.id)\n",
    "                        LEFT JOIN pa004.insurance i ON (u.id = i.id)\n",
    "\"\"\""
   ]
  },
  {
   "cell_type": "code",
   "execution_count": 31,
   "id": "151572b3",
   "metadata": {
    "ExecuteTime": {
     "end_time": "2021-07-21T16:14:01.810769Z",
     "start_time": "2021-07-21T16:14:00.799494Z"
    }
   },
   "outputs": [],
   "source": [
    "con = conect_db()\n",
    "cursor = con.cursor()"
   ]
  },
  {
   "cell_type": "code",
   "execution_count": 32,
   "id": "ee2afdf4",
   "metadata": {
    "ExecuteTime": {
     "end_time": "2021-07-21T16:14:12.633670Z",
     "start_time": "2021-07-21T16:14:03.596193Z"
    }
   },
   "outputs": [],
   "source": [
    "df_raw = pd.read_sql(query_tables_all, con)"
   ]
  },
  {
   "cell_type": "code",
   "execution_count": 36,
   "id": "8bde5c40",
   "metadata": {
    "ExecuteTime": {
     "end_time": "2021-07-21T16:22:42.808352Z",
     "start_time": "2021-07-21T16:22:42.788787Z"
    }
   },
   "outputs": [
    {
     "data": {
      "text/html": [
       "<div>\n",
       "<style scoped>\n",
       "    .dataframe tbody tr th:only-of-type {\n",
       "        vertical-align: middle;\n",
       "    }\n",
       "\n",
       "    .dataframe tbody tr th {\n",
       "        vertical-align: top;\n",
       "    }\n",
       "\n",
       "    .dataframe thead th {\n",
       "        text-align: right;\n",
       "    }\n",
       "</style>\n",
       "<table border=\"1\" class=\"dataframe\">\n",
       "  <thead>\n",
       "    <tr style=\"text-align: right;\">\n",
       "      <th></th>\n",
       "      <th>id</th>\n",
       "      <th>gender</th>\n",
       "      <th>age</th>\n",
       "      <th>region_code</th>\n",
       "      <th>policy_sales_channel</th>\n",
       "      <th>id</th>\n",
       "      <th>driving_license</th>\n",
       "      <th>vehicle_age</th>\n",
       "      <th>vehicle_damage</th>\n",
       "      <th>id</th>\n",
       "      <th>previously_insured</th>\n",
       "      <th>annual_premium</th>\n",
       "      <th>vintage</th>\n",
       "      <th>response</th>\n",
       "    </tr>\n",
       "  </thead>\n",
       "  <tbody>\n",
       "    <tr>\n",
       "      <th>0</th>\n",
       "      <td>7</td>\n",
       "      <td>Male</td>\n",
       "      <td>23</td>\n",
       "      <td>11.0</td>\n",
       "      <td>152.0</td>\n",
       "      <td>7</td>\n",
       "      <td>1</td>\n",
       "      <td>&lt; 1 Year</td>\n",
       "      <td>Yes</td>\n",
       "      <td>7</td>\n",
       "      <td>0</td>\n",
       "      <td>23367.0</td>\n",
       "      <td>249</td>\n",
       "      <td>0</td>\n",
       "    </tr>\n",
       "    <tr>\n",
       "      <th>1</th>\n",
       "      <td>13</td>\n",
       "      <td>Female</td>\n",
       "      <td>41</td>\n",
       "      <td>15.0</td>\n",
       "      <td>14.0</td>\n",
       "      <td>13</td>\n",
       "      <td>1</td>\n",
       "      <td>1-2 Year</td>\n",
       "      <td>No</td>\n",
       "      <td>13</td>\n",
       "      <td>1</td>\n",
       "      <td>31409.0</td>\n",
       "      <td>221</td>\n",
       "      <td>0</td>\n",
       "    </tr>\n",
       "    <tr>\n",
       "      <th>2</th>\n",
       "      <td>18</td>\n",
       "      <td>Female</td>\n",
       "      <td>25</td>\n",
       "      <td>35.0</td>\n",
       "      <td>152.0</td>\n",
       "      <td>18</td>\n",
       "      <td>1</td>\n",
       "      <td>&lt; 1 Year</td>\n",
       "      <td>No</td>\n",
       "      <td>18</td>\n",
       "      <td>1</td>\n",
       "      <td>46622.0</td>\n",
       "      <td>299</td>\n",
       "      <td>0</td>\n",
       "    </tr>\n",
       "    <tr>\n",
       "      <th>3</th>\n",
       "      <td>31</td>\n",
       "      <td>Female</td>\n",
       "      <td>26</td>\n",
       "      <td>8.0</td>\n",
       "      <td>160.0</td>\n",
       "      <td>31</td>\n",
       "      <td>1</td>\n",
       "      <td>&lt; 1 Year</td>\n",
       "      <td>No</td>\n",
       "      <td>31</td>\n",
       "      <td>0</td>\n",
       "      <td>2630.0</td>\n",
       "      <td>136</td>\n",
       "      <td>0</td>\n",
       "    </tr>\n",
       "    <tr>\n",
       "      <th>4</th>\n",
       "      <td>39</td>\n",
       "      <td>Male</td>\n",
       "      <td>45</td>\n",
       "      <td>8.0</td>\n",
       "      <td>124.0</td>\n",
       "      <td>39</td>\n",
       "      <td>1</td>\n",
       "      <td>1-2 Year</td>\n",
       "      <td>Yes</td>\n",
       "      <td>39</td>\n",
       "      <td>0</td>\n",
       "      <td>42297.0</td>\n",
       "      <td>264</td>\n",
       "      <td>0</td>\n",
       "    </tr>\n",
       "  </tbody>\n",
       "</table>\n",
       "</div>"
      ],
      "text/plain": [
       "   id  gender  age  region_code  policy_sales_channel  id  driving_license  \\\n",
       "0   7    Male   23         11.0                 152.0   7                1   \n",
       "1  13  Female   41         15.0                  14.0  13                1   \n",
       "2  18  Female   25         35.0                 152.0  18                1   \n",
       "3  31  Female   26          8.0                 160.0  31                1   \n",
       "4  39    Male   45          8.0                 124.0  39                1   \n",
       "\n",
       "  vehicle_age vehicle_damage  id  previously_insured  annual_premium  vintage  \\\n",
       "0    < 1 Year            Yes   7                   0         23367.0      249   \n",
       "1    1-2 Year             No  13                   1         31409.0      221   \n",
       "2    < 1 Year             No  18                   1         46622.0      299   \n",
       "3    < 1 Year             No  31                   0          2630.0      136   \n",
       "4    1-2 Year            Yes  39                   0         42297.0      264   \n",
       "\n",
       "   response  \n",
       "0         0  \n",
       "1         0  \n",
       "2         0  \n",
       "3         0  \n",
       "4         0  "
      ]
     },
     "execution_count": 36,
     "metadata": {},
     "output_type": "execute_result"
    }
   ],
   "source": [
    "df_raw.head()"
   ]
  },
  {
   "cell_type": "code",
   "execution_count": 37,
   "id": "835a6041",
   "metadata": {
    "ExecuteTime": {
     "end_time": "2021-07-21T16:25:18.124761Z",
     "start_time": "2021-07-21T16:25:16.947088Z"
    }
   },
   "outputs": [],
   "source": [
    "df_raw.to_csv('data/insurance_cross_sell.csv', index=False)"
   ]
  },
  {
   "cell_type": "code",
   "execution_count": 38,
   "id": "e11cb62a",
   "metadata": {
    "ExecuteTime": {
     "end_time": "2021-07-21T16:25:44.939746Z",
     "start_time": "2021-07-21T16:25:44.931744Z"
    }
   },
   "outputs": [],
   "source": [
    "cursor.close()\n",
    "con.close()"
   ]
  }
 ],
 "metadata": {
  "kernelspec": {
   "display_name": "Python 3",
   "language": "python",
   "name": "python3"
  },
  "language_info": {
   "codemirror_mode": {
    "name": "ipython",
    "version": 3
   },
   "file_extension": ".py",
   "mimetype": "text/x-python",
   "name": "python",
   "nbconvert_exporter": "python",
   "pygments_lexer": "ipython3",
   "version": "3.8.10"
  }
 },
 "nbformat": 4,
 "nbformat_minor": 5
}
